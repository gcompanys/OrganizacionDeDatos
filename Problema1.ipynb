{
  "nbformat": 4,
  "nbformat_minor": 0,
  "metadata": {
    "colab": {
      "name": "Problema1.ipynb",
      "provenance": [],
      "collapsed_sections": [],
      "authorship_tag": "ABX9TyOuGd+Ifftdc09pkjDUnOC7",
      "include_colab_link": true
    },
    "kernelspec": {
      "name": "python3",
      "display_name": "Python 3"
    },
    "language_info": {
      "name": "python"
    }
  },
  "cells": [
    {
      "cell_type": "markdown",
      "metadata": {
        "id": "view-in-github",
        "colab_type": "text"
      },
      "source": [
        "<a href=\"https://colab.research.google.com/github/gcompanys/OrganizacionDeDatos/blob/main/Problema1.ipynb\" target=\"_parent\"><img src=\"https://colab.research.google.com/assets/colab-badge.svg\" alt=\"Open In Colab\"/></a>"
      ]
    },
    {
      "cell_type": "code",
      "metadata": {
        "colab": {
          "base_uri": "https://localhost:8080/",
          "height": 200
        },
        "id": "udTCqGfwXh5r",
        "outputId": "a37f05a2-8ee5-4ed8-b1c6-8dcdfc951438"
      },
      "source": [
        "import pandas as pd \n",
        "import numpy as np \n",
        "\n",
        "notas_df = pd.read_csv('/content/notasAlumnos.csv')\n",
        "notas_df.sample(5)"
      ],
      "execution_count": 2,
      "outputs": [
        {
          "output_type": "execute_result",
          "data": {
            "text/html": [
              "<div>\n",
              "<style scoped>\n",
              "    .dataframe tbody tr th:only-of-type {\n",
              "        vertical-align: middle;\n",
              "    }\n",
              "\n",
              "    .dataframe tbody tr th {\n",
              "        vertical-align: top;\n",
              "    }\n",
              "\n",
              "    .dataframe thead th {\n",
              "        text-align: right;\n",
              "    }\n",
              "</style>\n",
              "<table border=\"1\" class=\"dataframe\">\n",
              "  <thead>\n",
              "    <tr style=\"text-align: right;\">\n",
              "      <th></th>\n",
              "      <th>padron</th>\n",
              "      <th>materia</th>\n",
              "      <th>nota</th>\n",
              "      <th>fecha</th>\n",
              "    </tr>\n",
              "  </thead>\n",
              "  <tbody>\n",
              "    <tr>\n",
              "      <th>44</th>\n",
              "      <td>10333</td>\n",
              "      <td>analisis</td>\n",
              "      <td>6</td>\n",
              "      <td>30-04-20</td>\n",
              "    </tr>\n",
              "    <tr>\n",
              "      <th>48</th>\n",
              "      <td>10306</td>\n",
              "      <td>taller</td>\n",
              "      <td>8</td>\n",
              "      <td>31-12-19</td>\n",
              "    </tr>\n",
              "    <tr>\n",
              "      <th>87</th>\n",
              "      <td>10370</td>\n",
              "      <td>computacion</td>\n",
              "      <td>2</td>\n",
              "      <td>14-04-21</td>\n",
              "    </tr>\n",
              "    <tr>\n",
              "      <th>20</th>\n",
              "      <td>10308</td>\n",
              "      <td>analisis</td>\n",
              "      <td>10</td>\n",
              "      <td>29-07-20</td>\n",
              "    </tr>\n",
              "    <tr>\n",
              "      <th>46</th>\n",
              "      <td>10308</td>\n",
              "      <td>algoritmos</td>\n",
              "      <td>9</td>\n",
              "      <td>15-02-21</td>\n",
              "    </tr>\n",
              "  </tbody>\n",
              "</table>\n",
              "</div>"
            ],
            "text/plain": [
              "    padron      materia  nota     fecha\n",
              "44   10333     analisis     6  30-04-20\n",
              "48   10306       taller     8  31-12-19\n",
              "87   10370  computacion     2  14-04-21\n",
              "20   10308     analisis    10  29-07-20\n",
              "46   10308   algoritmos     9  15-02-21"
            ]
          },
          "metadata": {
            "tags": []
          },
          "execution_count": 2
        }
      ]
    },
    {
      "cell_type": "markdown",
      "metadata": {
        "id": "AlJqrE5UcV_b"
      },
      "source": [
        "**A - Cuales es el promedio general de notas**"
      ]
    },
    {
      "cell_type": "code",
      "metadata": {
        "colab": {
          "base_uri": "https://localhost:8080/"
        },
        "id": "FC2lkZcocg3o",
        "outputId": "bfd5f556-c00a-4918-a757-0a8e8eaa299a"
      },
      "source": [
        "notas_df['nota'].mean()"
      ],
      "execution_count": 3,
      "outputs": [
        {
          "output_type": "execute_result",
          "data": {
            "text/plain": [
              "5.35"
            ]
          },
          "metadata": {
            "tags": []
          },
          "execution_count": 3
        }
      ]
    },
    {
      "cell_type": "markdown",
      "metadata": {
        "id": "4JbdycpVc2fT"
      },
      "source": [
        "Por lo tanto el promedio general de notas es aproximadamente 5.35\n"
      ]
    },
    {
      "cell_type": "markdown",
      "metadata": {
        "id": "E2Y9vXfGdF46"
      },
      "source": [
        "**B - Cual es la nota mas alta y la nota mas baja registrada durante el anio 2019**"
      ]
    },
    {
      "cell_type": "code",
      "metadata": {
        "id": "McAvf_q7gEG-"
      },
      "source": [
        "#primero modifico la columna fecha y lo llevo a del tipo datetime\n",
        "notas_df['fecha'] = notas_df['fecha'].apply(pd.to_datetime) "
      ],
      "execution_count": 7,
      "outputs": []
    },
    {
      "cell_type": "code",
      "metadata": {
        "colab": {
          "base_uri": "https://localhost:8080/",
          "height": 170
        },
        "id": "10nki8n8jkbo",
        "outputId": "f50e635a-d4d8-4021-887b-ecc8cb3d0d69"
      },
      "source": [
        "notas_2019 = notas_df[notas_df['fecha'].dt.year == 2019] #importante usar el .dt.year\n",
        "notas_aprobadas_2019 = notas_2019[notas_2019['nota'] >= 4]\n",
        "notas_aprobadas_2019"
      ],
      "execution_count": 49,
      "outputs": [
        {
          "output_type": "execute_result",
          "data": {
            "text/html": [
              "<div>\n",
              "<style scoped>\n",
              "    .dataframe tbody tr th:only-of-type {\n",
              "        vertical-align: middle;\n",
              "    }\n",
              "\n",
              "    .dataframe tbody tr th {\n",
              "        vertical-align: top;\n",
              "    }\n",
              "\n",
              "    .dataframe thead th {\n",
              "        text-align: right;\n",
              "    }\n",
              "</style>\n",
              "<table border=\"1\" class=\"dataframe\">\n",
              "  <thead>\n",
              "    <tr style=\"text-align: right;\">\n",
              "      <th></th>\n",
              "      <th>padron</th>\n",
              "      <th>materia</th>\n",
              "      <th>nota</th>\n",
              "      <th>fecha</th>\n",
              "    </tr>\n",
              "  </thead>\n",
              "  <tbody>\n",
              "    <tr>\n",
              "      <th>48</th>\n",
              "      <td>10306</td>\n",
              "      <td>taller</td>\n",
              "      <td>8</td>\n",
              "      <td>2019-12-31</td>\n",
              "    </tr>\n",
              "    <tr>\n",
              "      <th>51</th>\n",
              "      <td>10375</td>\n",
              "      <td>algebra</td>\n",
              "      <td>4</td>\n",
              "      <td>2019-11-11</td>\n",
              "    </tr>\n",
              "    <tr>\n",
              "      <th>72</th>\n",
              "      <td>10345</td>\n",
              "      <td>taller</td>\n",
              "      <td>8</td>\n",
              "      <td>2019-10-10</td>\n",
              "    </tr>\n",
              "    <tr>\n",
              "      <th>74</th>\n",
              "      <td>10311</td>\n",
              "      <td>fisica</td>\n",
              "      <td>5</td>\n",
              "      <td>2019-11-16</td>\n",
              "    </tr>\n",
              "  </tbody>\n",
              "</table>\n",
              "</div>"
            ],
            "text/plain": [
              "    padron  materia  nota      fecha\n",
              "48   10306   taller     8 2019-12-31\n",
              "51   10375  algebra     4 2019-11-11\n",
              "72   10345   taller     8 2019-10-10\n",
              "74   10311   fisica     5 2019-11-16"
            ]
          },
          "metadata": {
            "tags": []
          },
          "execution_count": 49
        }
      ]
    },
    {
      "cell_type": "markdown",
      "metadata": {
        "id": "d0KJRpL3j_29"
      },
      "source": [
        "Tengo un dataframe con todas las notas con fecha den 2019"
      ]
    },
    {
      "cell_type": "code",
      "metadata": {
        "colab": {
          "base_uri": "https://localhost:8080/"
        },
        "id": "MaV9LicYkEYq",
        "outputId": "aa2d4456-c5ff-4695-f2cd-b8a3dd585c23"
      },
      "source": [
        "notaMax2019 = notas_2019['nota'].max()\n",
        "notaMin2019 = notas_2019['nota'].min()\n",
        "\n",
        "print('Nota mas alta en 2019: ', notaMax2019)\n",
        "print('Nota mas baja en 2019: ', notaMin2019)"
      ],
      "execution_count": 6,
      "outputs": [
        {
          "output_type": "stream",
          "text": [
            "Nota mas alta en 2019:  8\n",
            "Nota mas baja en 2019:  1\n"
          ],
          "name": "stdout"
        }
      ]
    },
    {
      "cell_type": "markdown",
      "metadata": {
        "id": "i-YELgJckzxq"
      },
      "source": [
        "**C - Cual es el padron con mayor cantidad de materias aprobadas durante el ultimo cuatrimestre**"
      ]
    },
    {
      "cell_type": "markdown",
      "metadata": {
        "id": "XDG2_rjqTEX2"
      },
      "source": [
        "Cosas a tener en cuenta:\n",
        "\n",
        "\n",
        "1.   Un alumno aprueba con 4\n",
        "2.   Ultimo cuatrimestre va de 1/8/19 al 12/12/19\n",
        "\n"
      ]
    },
    {
      "cell_type": "code",
      "metadata": {
        "colab": {
          "base_uri": "https://localhost:8080/"
        },
        "id": "T1a6UyKjTPPk",
        "outputId": "69b51011-fbff-41cb-b0d1-538c1862169a"
      },
      "source": [
        "fechas_cuatrimestre = ('2019-08-01' <= notas_df['fecha']) & (notas_df['fecha'] <= '2019-12-12')\n",
        "aprobados = notas_df['nota'] >= 4\n",
        "\n",
        "aprobados_cuatrimestre = notas_df.loc[fechas_cuatrimestre & aprobados, 'padron']\n",
        "aprobados_cuatrimestre.value_counts().nlargest()"
      ],
      "execution_count": 52,
      "outputs": [
        {
          "output_type": "execute_result",
          "data": {
            "text/plain": [
              "10375    1\n",
              "10345    1\n",
              "10311    1\n",
              "Name: padron, dtype: int64"
            ]
          },
          "metadata": {
            "tags": []
          },
          "execution_count": 52
        }
      ]
    },
    {
      "cell_type": "markdown",
      "metadata": {
        "id": "uLj4JFRYVSUa"
      },
      "source": [
        "En este caso tuve 3 padrones que aprobaron la mayor cantidad de materias en el ultimo cuatrimestre (aprobaron 1 sola materia)"
      ]
    },
    {
      "cell_type": "markdown",
      "metadata": {
        "id": "uv0LuIlYnPRN"
      },
      "source": [
        "**D - Cual es la nota promedio por materia**"
      ]
    },
    {
      "cell_type": "code",
      "metadata": {
        "colab": {
          "base_uri": "https://localhost:8080/",
          "height": 291
        },
        "id": "yqnlm4CAPE3d",
        "outputId": "372334a0-996c-4e58-dc24-608bc48a7508"
      },
      "source": [
        "notas_df.loc[:,['materia','nota']].groupby('materia').mean()"
      ],
      "execution_count": 60,
      "outputs": [
        {
          "output_type": "execute_result",
          "data": {
            "text/html": [
              "<div>\n",
              "<style scoped>\n",
              "    .dataframe tbody tr th:only-of-type {\n",
              "        vertical-align: middle;\n",
              "    }\n",
              "\n",
              "    .dataframe tbody tr th {\n",
              "        vertical-align: top;\n",
              "    }\n",
              "\n",
              "    .dataframe thead th {\n",
              "        text-align: right;\n",
              "    }\n",
              "</style>\n",
              "<table border=\"1\" class=\"dataframe\">\n",
              "  <thead>\n",
              "    <tr style=\"text-align: right;\">\n",
              "      <th></th>\n",
              "      <th>nota</th>\n",
              "    </tr>\n",
              "    <tr>\n",
              "      <th>materia</th>\n",
              "      <th></th>\n",
              "    </tr>\n",
              "  </thead>\n",
              "  <tbody>\n",
              "    <tr>\n",
              "      <th>algebra</th>\n",
              "      <td>5.368421</td>\n",
              "    </tr>\n",
              "    <tr>\n",
              "      <th>algoritmos</th>\n",
              "      <td>5.733333</td>\n",
              "    </tr>\n",
              "    <tr>\n",
              "      <th>analisis</th>\n",
              "      <td>5.928571</td>\n",
              "    </tr>\n",
              "    <tr>\n",
              "      <th>computacion</th>\n",
              "      <td>6.153846</td>\n",
              "    </tr>\n",
              "    <tr>\n",
              "      <th>fisica</th>\n",
              "      <td>4.727273</td>\n",
              "    </tr>\n",
              "    <tr>\n",
              "      <th>numerico</th>\n",
              "      <td>4.230769</td>\n",
              "    </tr>\n",
              "    <tr>\n",
              "      <th>taller</th>\n",
              "      <td>5.133333</td>\n",
              "    </tr>\n",
              "  </tbody>\n",
              "</table>\n",
              "</div>"
            ],
            "text/plain": [
              "                 nota\n",
              "materia              \n",
              "algebra      5.368421\n",
              "algoritmos   5.733333\n",
              "analisis     5.928571\n",
              "computacion  6.153846\n",
              "fisica       4.727273\n",
              "numerico     4.230769\n",
              "taller       5.133333"
            ]
          },
          "metadata": {
            "tags": []
          },
          "execution_count": 60
        }
      ]
    },
    {
      "cell_type": "markdown",
      "metadata": {
        "id": "DSKRTegkc_wO"
      },
      "source": [
        "**E - Cual es la nota promedio por padron**"
      ]
    },
    {
      "cell_type": "code",
      "metadata": {
        "colab": {
          "base_uri": "https://localhost:8080/",
          "height": 441
        },
        "id": "oON9OHfFdHGs",
        "outputId": "5d7a8c78-8ff2-4ca7-ad4e-c728253577e6"
      },
      "source": [
        "#Una forma de hacerlo igual a la anterior\n",
        "notas_df.loc[:, ['padron','nota']].groupby('padron').mean()"
      ],
      "execution_count": 61,
      "outputs": [
        {
          "output_type": "execute_result",
          "data": {
            "text/html": [
              "<div>\n",
              "<style scoped>\n",
              "    .dataframe tbody tr th:only-of-type {\n",
              "        vertical-align: middle;\n",
              "    }\n",
              "\n",
              "    .dataframe tbody tr th {\n",
              "        vertical-align: top;\n",
              "    }\n",
              "\n",
              "    .dataframe thead th {\n",
              "        text-align: right;\n",
              "    }\n",
              "</style>\n",
              "<table border=\"1\" class=\"dataframe\">\n",
              "  <thead>\n",
              "    <tr style=\"text-align: right;\">\n",
              "      <th></th>\n",
              "      <th>nota</th>\n",
              "    </tr>\n",
              "    <tr>\n",
              "      <th>padron</th>\n",
              "      <th></th>\n",
              "    </tr>\n",
              "  </thead>\n",
              "  <tbody>\n",
              "    <tr>\n",
              "      <th>10300</th>\n",
              "      <td>10.0</td>\n",
              "    </tr>\n",
              "    <tr>\n",
              "      <th>10301</th>\n",
              "      <td>1.0</td>\n",
              "    </tr>\n",
              "    <tr>\n",
              "      <th>10302</th>\n",
              "      <td>4.0</td>\n",
              "    </tr>\n",
              "    <tr>\n",
              "      <th>10303</th>\n",
              "      <td>8.5</td>\n",
              "    </tr>\n",
              "    <tr>\n",
              "      <th>10304</th>\n",
              "      <td>2.0</td>\n",
              "    </tr>\n",
              "    <tr>\n",
              "      <th>...</th>\n",
              "      <td>...</td>\n",
              "    </tr>\n",
              "    <tr>\n",
              "      <th>10381</th>\n",
              "      <td>9.0</td>\n",
              "    </tr>\n",
              "    <tr>\n",
              "      <th>10382</th>\n",
              "      <td>5.0</td>\n",
              "    </tr>\n",
              "    <tr>\n",
              "      <th>10383</th>\n",
              "      <td>9.5</td>\n",
              "    </tr>\n",
              "    <tr>\n",
              "      <th>10384</th>\n",
              "      <td>3.0</td>\n",
              "    </tr>\n",
              "    <tr>\n",
              "      <th>10385</th>\n",
              "      <td>3.0</td>\n",
              "    </tr>\n",
              "  </tbody>\n",
              "</table>\n",
              "<p>61 rows × 1 columns</p>\n",
              "</div>"
            ],
            "text/plain": [
              "        nota\n",
              "padron      \n",
              "10300   10.0\n",
              "10301    1.0\n",
              "10302    4.0\n",
              "10303    8.5\n",
              "10304    2.0\n",
              "...      ...\n",
              "10381    9.0\n",
              "10382    5.0\n",
              "10383    9.5\n",
              "10384    3.0\n",
              "10385    3.0\n",
              "\n",
              "[61 rows x 1 columns]"
            ]
          },
          "metadata": {
            "tags": []
          },
          "execution_count": 61
        }
      ]
    },
    {
      "cell_type": "code",
      "metadata": {
        "colab": {
          "base_uri": "https://localhost:8080/",
          "height": 441
        },
        "id": "GV3pMuiqfZMg",
        "outputId": "b2b28020-f449-490f-ae70-aa0c293b3a76"
      },
      "source": [
        "#Otra forma de hacerlo\n",
        "notas_df[['padron','nota']].groupby('padron').mean()"
      ],
      "execution_count": 64,
      "outputs": [
        {
          "output_type": "execute_result",
          "data": {
            "text/html": [
              "<div>\n",
              "<style scoped>\n",
              "    .dataframe tbody tr th:only-of-type {\n",
              "        vertical-align: middle;\n",
              "    }\n",
              "\n",
              "    .dataframe tbody tr th {\n",
              "        vertical-align: top;\n",
              "    }\n",
              "\n",
              "    .dataframe thead th {\n",
              "        text-align: right;\n",
              "    }\n",
              "</style>\n",
              "<table border=\"1\" class=\"dataframe\">\n",
              "  <thead>\n",
              "    <tr style=\"text-align: right;\">\n",
              "      <th></th>\n",
              "      <th>nota</th>\n",
              "    </tr>\n",
              "    <tr>\n",
              "      <th>padron</th>\n",
              "      <th></th>\n",
              "    </tr>\n",
              "  </thead>\n",
              "  <tbody>\n",
              "    <tr>\n",
              "      <th>10300</th>\n",
              "      <td>10.0</td>\n",
              "    </tr>\n",
              "    <tr>\n",
              "      <th>10301</th>\n",
              "      <td>1.0</td>\n",
              "    </tr>\n",
              "    <tr>\n",
              "      <th>10302</th>\n",
              "      <td>4.0</td>\n",
              "    </tr>\n",
              "    <tr>\n",
              "      <th>10303</th>\n",
              "      <td>8.5</td>\n",
              "    </tr>\n",
              "    <tr>\n",
              "      <th>10304</th>\n",
              "      <td>2.0</td>\n",
              "    </tr>\n",
              "    <tr>\n",
              "      <th>...</th>\n",
              "      <td>...</td>\n",
              "    </tr>\n",
              "    <tr>\n",
              "      <th>10381</th>\n",
              "      <td>9.0</td>\n",
              "    </tr>\n",
              "    <tr>\n",
              "      <th>10382</th>\n",
              "      <td>5.0</td>\n",
              "    </tr>\n",
              "    <tr>\n",
              "      <th>10383</th>\n",
              "      <td>9.5</td>\n",
              "    </tr>\n",
              "    <tr>\n",
              "      <th>10384</th>\n",
              "      <td>3.0</td>\n",
              "    </tr>\n",
              "    <tr>\n",
              "      <th>10385</th>\n",
              "      <td>3.0</td>\n",
              "    </tr>\n",
              "  </tbody>\n",
              "</table>\n",
              "<p>61 rows × 1 columns</p>\n",
              "</div>"
            ],
            "text/plain": [
              "        nota\n",
              "padron      \n",
              "10300   10.0\n",
              "10301    1.0\n",
              "10302    4.0\n",
              "10303    8.5\n",
              "10304    2.0\n",
              "...      ...\n",
              "10381    9.0\n",
              "10382    5.0\n",
              "10383    9.5\n",
              "10384    3.0\n",
              "10385    3.0\n",
              "\n",
              "[61 rows x 1 columns]"
            ]
          },
          "metadata": {
            "tags": []
          },
          "execution_count": 64
        }
      ]
    }
  ]
}