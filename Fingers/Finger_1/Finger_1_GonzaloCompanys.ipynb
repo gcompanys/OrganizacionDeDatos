{
  "nbformat": 4,
  "nbformat_minor": 0,
  "metadata": {
    "colab": {
      "name": "Finger_1-GonzaloCompanys.ipynb",
      "provenance": [],
      "collapsed_sections": []
    },
    "kernelspec": {
      "name": "python3",
      "display_name": "Python 3"
    },
    "language_info": {
      "name": "python"
    }
  },
  "cells": [
    {
      "cell_type": "markdown",
      "metadata": {
        "id": "j8qv1b8m3Dhx"
      },
      "source": [
        "1- Obtener el país con mayor cantidad de gente vacunada.\n",
        "\n",
        "2- Realizar una visualización que permita comparar la cantidad de gente vacunada\n",
        "(vaccinated), con la que recibió ambas dosis (fully vaccinated). Pueden tomar los 10 países con\n",
        "mayor vacunación, ya sea en número como en porcentaje."
      ]
    },
    {
      "cell_type": "code",
      "metadata": {
        "id": "Q3AWCMMH3I-k"
      },
      "source": [
        "import pandas as pd \n",
        "import numpy as np \n",
        "import matplotlib.pyplot as plt\n",
        "\n",
        "pd.options.display.float_format = '{:20,.2f}'.format\n",
        "#%matplotlib inline"
      ],
      "execution_count": null,
      "outputs": []
    },
    {
      "cell_type": "code",
      "metadata": {
        "id": "Ie5TqOVn34Az"
      },
      "source": [
        "from pydrive.auth import GoogleAuth\n",
        "from pydrive.drive import GoogleDrive\n",
        "from google.colab import auth\n",
        "from oauth2client.client import GoogleCredentials"
      ],
      "execution_count": null,
      "outputs": []
    },
    {
      "cell_type": "code",
      "metadata": {
        "id": "XkFLSvvk37Sp"
      },
      "source": [
        "auth.authenticate_user()\n",
        "gauth = GoogleAuth()\n",
        "gauth.credentials = GoogleCredentials.get_application_default()\n",
        "drive = GoogleDrive(gauth)"
      ],
      "execution_count": null,
      "outputs": []
    },
    {
      "cell_type": "markdown",
      "metadata": {
        "id": "zFKVJzkp7c3S"
      },
      "source": [
        "# Punto 1\n"
      ]
    },
    {
      "cell_type": "markdown",
      "metadata": {
        "id": "4q2vx0l12gRJ"
      },
      "source": [
        "A fin de lo pedido en el finger, voy a leer el .csv tomando solo las columnas de interes, para no desperdiciar memoria con datos que no voy a utilizar."
      ]
    },
    {
      "cell_type": "code",
      "metadata": {
        "id": "wMB9Hxnd4zlt"
      },
      "source": [
        "vacunaciones_paises = pd.read_csv('/content/country_vaccinations.csv', usecols=\\\n",
        "                                  ['country','date','total_vaccinations',\\\n",
        "                                'people_vaccinated','people_fully_vaccinated'])"
      ],
      "execution_count": null,
      "outputs": []
    },
    {
      "cell_type": "code",
      "metadata": {
        "colab": {
          "base_uri": "https://localhost:8080/",
          "height": 139
        },
        "id": "KbMMH1Yr5cYK",
        "outputId": "690a0ede-471b-4b2c-a9fb-b1d131b91bea"
      },
      "source": [
        "vacunaciones_paises.sample(3)\n"
      ],
      "execution_count": null,
      "outputs": [
        {
          "output_type": "execute_result",
          "data": {
            "text/html": [
              "<div>\n",
              "<style scoped>\n",
              "    .dataframe tbody tr th:only-of-type {\n",
              "        vertical-align: middle;\n",
              "    }\n",
              "\n",
              "    .dataframe tbody tr th {\n",
              "        vertical-align: top;\n",
              "    }\n",
              "\n",
              "    .dataframe thead th {\n",
              "        text-align: right;\n",
              "    }\n",
              "</style>\n",
              "<table border=\"1\" class=\"dataframe\">\n",
              "  <thead>\n",
              "    <tr style=\"text-align: right;\">\n",
              "      <th></th>\n",
              "      <th>country</th>\n",
              "      <th>date</th>\n",
              "      <th>total_vaccinations</th>\n",
              "      <th>people_vaccinated</th>\n",
              "      <th>people_fully_vaccinated</th>\n",
              "    </tr>\n",
              "  </thead>\n",
              "  <tbody>\n",
              "    <tr>\n",
              "      <th>4686</th>\n",
              "      <td>Hungary</td>\n",
              "      <td>2021-02-15</td>\n",
              "      <td>473,551.00</td>\n",
              "      <td>341,958.00</td>\n",
              "      <td>131,593.00</td>\n",
              "    </tr>\n",
              "    <tr>\n",
              "      <th>5579</th>\n",
              "      <td>Jamaica</td>\n",
              "      <td>2021-04-01</td>\n",
              "      <td>41,901.00</td>\n",
              "      <td>41,901.00</td>\n",
              "      <td>nan</td>\n",
              "    </tr>\n",
              "    <tr>\n",
              "      <th>3083</th>\n",
              "      <td>Egypt</td>\n",
              "      <td>2021-01-27</td>\n",
              "      <td>nan</td>\n",
              "      <td>nan</td>\n",
              "      <td>nan</td>\n",
              "    </tr>\n",
              "  </tbody>\n",
              "</table>\n",
              "</div>"
            ],
            "text/plain": [
              "      country        date  ...    people_vaccinated  people_fully_vaccinated\n",
              "4686  Hungary  2021-02-15  ...           341,958.00               131,593.00\n",
              "5579  Jamaica  2021-04-01  ...            41,901.00                      nan\n",
              "3083    Egypt  2021-01-27  ...                  nan                      nan\n",
              "\n",
              "[3 rows x 5 columns]"
            ]
          },
          "metadata": {
            "tags": []
          },
          "execution_count": 73
        }
      ]
    },
    {
      "cell_type": "code",
      "metadata": {
        "colab": {
          "base_uri": "https://localhost:8080/"
        },
        "id": "bvNfESTM7JRp",
        "outputId": "fccf5354-e921-42bb-f7cb-0563fc53fb92"
      },
      "source": [
        "vacunaciones_paises.info()"
      ],
      "execution_count": null,
      "outputs": [
        {
          "output_type": "stream",
          "text": [
            "<class 'pandas.core.frame.DataFrame'>\n",
            "RangeIndex: 11681 entries, 0 to 11680\n",
            "Data columns (total 5 columns):\n",
            " #   Column                   Non-Null Count  Dtype  \n",
            "---  ------                   --------------  -----  \n",
            " 0   country                  11681 non-null  object \n",
            " 1   date                     11681 non-null  object \n",
            " 2   total_vaccinations       6945 non-null   float64\n",
            " 3   people_vaccinated        6261 non-null   float64\n",
            " 4   people_fully_vaccinated  4508 non-null   float64\n",
            "dtypes: float64(3), object(2)\n",
            "memory usage: 456.4+ KB\n"
          ],
          "name": "stdout"
        }
      ]
    },
    {
      "cell_type": "markdown",
      "metadata": {
        "id": "Ia5iUTcz8xPy"
      },
      "source": [
        "La columna 'total_vaccinations' es del tipo float64 y tiene 6945 valores no nulos. No voy a alterar el valores de los NaN que tenga en esa columna dado que a fin del calculo que quiero hacer no me afecta.\n",
        "\n",
        "Segun los detalles del dataset en Kaggle, la columna 'total_vaccinations' puede tener un NaN debido a que, segun el pais, la informacion que se tiene es la cantidad de vacunas diarias aplicadas (en este caso tendriamos un NaN en la columna propiamente dicha) o un acumulado de las vacunaciones total del pais."
      ]
    },
    {
      "cell_type": "code",
      "metadata": {
        "colab": {
          "base_uri": "https://localhost:8080/",
          "height": 109
        },
        "id": "QpM42SeQConq",
        "outputId": "b920b706-ee86-446f-91b1-919085c6c86e"
      },
      "source": [
        "cantTotal_vacunados_por_pais = vacunaciones_paises.loc[:,\\\n",
        "                      ['country','total_vaccinations']].groupby('country').max()\n",
        "cantTotal_vacunados_por_pais.nlargest(1,'total_vaccinations')"
      ],
      "execution_count": null,
      "outputs": [
        {
          "output_type": "execute_result",
          "data": {
            "text/html": [
              "<div>\n",
              "<style scoped>\n",
              "    .dataframe tbody tr th:only-of-type {\n",
              "        vertical-align: middle;\n",
              "    }\n",
              "\n",
              "    .dataframe tbody tr th {\n",
              "        vertical-align: top;\n",
              "    }\n",
              "\n",
              "    .dataframe thead th {\n",
              "        text-align: right;\n",
              "    }\n",
              "</style>\n",
              "<table border=\"1\" class=\"dataframe\">\n",
              "  <thead>\n",
              "    <tr style=\"text-align: right;\">\n",
              "      <th></th>\n",
              "      <th>total_vaccinations</th>\n",
              "    </tr>\n",
              "    <tr>\n",
              "      <th>country</th>\n",
              "      <th></th>\n",
              "    </tr>\n",
              "  </thead>\n",
              "  <tbody>\n",
              "    <tr>\n",
              "      <th>United States</th>\n",
              "      <td>194,791,836.00</td>\n",
              "    </tr>\n",
              "  </tbody>\n",
              "</table>\n",
              "</div>"
            ],
            "text/plain": [
              "                total_vaccinations\n",
              "country                           \n",
              "United States       194,791,836.00"
            ]
          },
          "metadata": {
            "tags": []
          },
          "execution_count": 75
        }
      ]
    },
    {
      "cell_type": "markdown",
      "metadata": {
        "id": "Lxeux19ZHU3L"
      },
      "source": [
        "Como puede verse, el pais con mayor cantidad de vacunados es Estados Unidos, con un total de 194.791.836 vacunados."
      ]
    },
    {
      "cell_type": "markdown",
      "metadata": {
        "id": "Ze0iE_P07k6X"
      },
      "source": [
        "# Punto 2"
      ]
    },
    {
      "cell_type": "markdown",
      "metadata": {
        "id": "9HQOPKIgITtS"
      },
      "source": [
        "Para la segunda pregunta, tomo los primeros 10 paises con mayor cantidad de vacunados con ambas dosis.\n"
      ]
    },
    {
      "cell_type": "code",
      "metadata": {
        "id": "JfOQhiPHVctI"
      },
      "source": [
        "tipo_vacunados_agrupados_por_pais = vacunaciones_paises.groupby('country').max()\n",
        "tipo_vacunados = tipo_vacunados_agrupados_por_pais.nlargest(10,\\\n",
        "                                                    'people_fully_vaccinated')"
      ],
      "execution_count": null,
      "outputs": []
    },
    {
      "cell_type": "markdown",
      "metadata": {
        "id": "dVpBt2Se1Vmz"
      },
      "source": [
        "Realizo un grafico para ver la cantidad de dosis aplicadas segun pais, tomando los 10 paises que tengan la mayor cantidad de gente vacunada con ambas dosis. Voy a utilizar un 'grouped bar charts', dado que me parece la manera mas facil de visualizar, para cada pais, la cantidad de gente con n dosis aplicadas (siendo n=1 o n=2)."
      ]
    },
    {
      "cell_type": "code",
      "metadata": {
        "colab": {
          "base_uri": "https://localhost:8080/",
          "height": 527
        },
        "id": "Euj0QJw4trdj",
        "outputId": "58edc8f7-2d18-4dbd-ad9b-2d5773c21e13"
      },
      "source": [
        "x = np.arange(len(tipo_vacunados.index))\n",
        "width = 0.35 \n",
        "\n",
        "fig, ax = plt.subplots(figsize = (8,8))\n",
        "rects1 = ax.barh(x - width/2, tipo_vacunados['people_vaccinated'],\\\n",
        "                 width, label='1 dosis', color = 'salmon')\n",
        "rects2 = ax.barh(x + width/2, tipo_vacunados['people_fully_vaccinated'],\\\n",
        "                 width, label='2 dosis', color = 'mediumseagreen')\n",
        "\n",
        "# Add some text for labels, title and custom x-axis tick labels, etc.\n",
        "ax.set_ylabel('Pais', fontsize = 20)\n",
        "ax.set_xlabel('Cantidad vacunados [millones]', fontsize = 20)\n",
        "ax.set_title('Cantidad vacunados segun numero de dosis por pais', fontsize = 20)\n",
        "ax.set_yticks(x)\n",
        "ax.set_yticklabels(tipo_vacunados.index, fontsize = 13)\n",
        "ax.legend(fontsize = 15)\n",
        "\n",
        "plt.gca().invert_yaxis()\n",
        "plt.grid(lw = 0.2, c = 'lightgray')\n",
        "plt.show()"
      ],
      "execution_count": null,
      "outputs": [
        {
          "output_type": "display_data",
          "data": {
            "image/png": "[encoded data removed]",
            "text/plain": [
              "<Figure size 576x576 with 1 Axes>"
            ]
          },
          "metadata": {
            "tags": [],
            "needs_background": "light"
          }
        }
      ]
    }
  ]
}