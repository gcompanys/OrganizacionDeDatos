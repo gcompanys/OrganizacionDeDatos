{
 "cells": [
  {
   "cell_type": "markdown",
   "metadata": {},
   "source": [
    "2) Un importante broker de compra y venta de vehiculos online se encuentra dando sus primeros\n",
    "pasos en la preparación de su algoritmo de pricing, es por eso que se encuentra generando\n",
    "algunos features iniciales para experimentar con distintos algoritmos de machine learning.\n",
    "Para ello cuenta con un archivo con información de todas las transacciones que tuvo en su primer\n",
    "año de operación en el formato (transaction_id, timestamp, vehicle_model_id,\n",
    "price).\n",
    "\n",
    "Por otro lado cuenta con información que fue extrayendo a partir de scrapping durante el último\n",
    "año en el formato (timestamp, source, vehicle_model_id, price). La información\n",
    "puede venir de múltiples fuentes (source), que pueden ser por ejemplo distintos sitios de\n",
    "marketplace o clasificados.\n",
    "\n",
    "\n",
    "Luego de un intenso trabajo previo ha podido unificar los modelos de vehículos que utiliza para\n",
    "sus transacciones con la información que ha podido obtener de otros competidores mediante\n",
    "scrapping. Muchos de los modelos disponibles en la información de scrapping no han sido aún\n",
    "comercializados por la empresa, pero se sabe que se cuenta con precios scrapeados de todos los\n",
    "modelos que se vendieron.\n",
    "\n",
    "\n",
    "Se pide generar utilizando Pandas un dataframe que tenga el siguiente formato\n",
    "(vehicle_model_id, ext_mean_price, ext_std_price, int_mean_price,\n",
    "int_std_price), siendo:\n",
    "- mean_price: precio promedio para ese vehículo.\n",
    "- std_price: desvío estándar del precio para ese vehículo.\n",
    "y los prefijo ext_ y int_ indicando que deben ser calculado sobre respectivamente datos\n",
    "externos (los obtenido vía scraping) y datos internos (los de las transacciones). (***) (15pts)"
   ]
  },
  {
   "cell_type": "code",
   "execution_count": 1,
   "metadata": {},
   "outputs": [],
   "source": [
    "import numpy as np\n",
    "import pandas as pd"
   ]
  },
  {
   "cell_type": "markdown",
   "metadata": {},
   "source": [
    "**transacciones_df ...  (transaction_id, timestamp, vehicle_model_id, price)**\n",
    "\n",
    "**scrapping_df ... (timestamp, source, vehicle_model_id, price)**"
   ]
  },
  {
   "cell_type": "markdown",
   "metadata": {},
   "source": [
    "Quiero construir un df con el formato \n",
    "\n",
    "**(vehicle_model_id, ext_mean_price, ext_std_price, int_mean_price, int_std_price)**"
   ]
  },
  {
   "cell_type": "code",
   "execution_count": 6,
   "metadata": {},
   "outputs": [],
   "source": [
    "transacciones_data = {'transaction_id': [1,1,1,1,1,1,1,1,1,1,1],\\\n",
    "                     'timestamp': [1,1,1,1,1,1,1,1,1,1,1],\\\n",
    "                      'vehicle_model_id': [1,2,2,4,1,3,5,5,4,3,3],\\\n",
    "                      'price': [75000,64000,67000,84000,78000,115000,15000,17000,87000,123000,123500]\n",
    "                     }\n",
    "transacciones_df = pd.DataFrame(transacciones_data, columns = transacciones_data.keys())\n",
    "\n",
    "scrapping_data = {'timestamp': [1,1,1,1,1,1,1,1,1,1,1,1,1,1,1],\\\n",
    "                 'vehicle_model_id': [1,2,2,3,1,1,4,2,3,4,5,6,5,6,6],\\\n",
    "                  'price': [76500,67000,66600,125000,77300,81000,88000,65000,105000,88500,10000,210000,10300,225000,221000]\n",
    "                 }\n",
    "scrapping_df = pd.DataFrame(scrapping_data, columns = scrapping_data.keys())"
   ]
  },
  {
   "cell_type": "code",
   "execution_count": 7,
   "metadata": {},
   "outputs": [],
   "source": [
    "#calculo las estadisticas pedidas para el df de transacciones\n",
    "transacciones_df['int_mean_price'] = transacciones_df.groupby('vehicle_model_id')['price'].transform('mean')\n",
    "transacciones_df['int_std_price'] = transacciones_df.groupby('vehicle_model_id')['price'].transform('std')"
   ]
  },
  {
   "cell_type": "code",
   "execution_count": 8,
   "metadata": {},
   "outputs": [],
   "source": [
    "scrapping_df['ext_mean_price'] = scrapping_df.groupby('vehicle_model_id')['price'].transform('mean')\n",
    "scrapping_df['ext_std_price'] = scrapping_df.groupby('vehicle_model_id')['price'].transform('std')"
   ]
  },
  {
   "cell_type": "code",
   "execution_count": 9,
   "metadata": {},
   "outputs": [],
   "source": [
    "#me quedo solo con las columnas que quiero \n",
    "scrapping = scrapping_df.loc[:,['vehicle_model_id','ext_mean_price','ext_std_price']]\n",
    "transacciones = transacciones_df.loc[:,['vehicle_model_id','int_mean_price','int_std_price']]"
   ]
  },
  {
   "cell_type": "code",
   "execution_count": 11,
   "metadata": {},
   "outputs": [
    {
     "data": {
      "text/html": [
       "<div>\n",
       "<style scoped>\n",
       "    .dataframe tbody tr th:only-of-type {\n",
       "        vertical-align: middle;\n",
       "    }\n",
       "\n",
       "    .dataframe tbody tr th {\n",
       "        vertical-align: top;\n",
       "    }\n",
       "\n",
       "    .dataframe thead th {\n",
       "        text-align: right;\n",
       "    }\n",
       "</style>\n",
       "<table border=\"1\" class=\"dataframe\">\n",
       "  <thead>\n",
       "    <tr style=\"text-align: right;\">\n",
       "      <th></th>\n",
       "      <th>vehicle_model_id</th>\n",
       "      <th>ext_mean_price</th>\n",
       "      <th>ext_std_price</th>\n",
       "      <th>int_mean_price</th>\n",
       "      <th>int_std_price</th>\n",
       "    </tr>\n",
       "  </thead>\n",
       "  <tbody>\n",
       "    <tr>\n",
       "      <th>0</th>\n",
       "      <td>1</td>\n",
       "      <td>78266.666667</td>\n",
       "      <td>2400.694344</td>\n",
       "      <td>76500.0</td>\n",
       "      <td>2121.320344</td>\n",
       "    </tr>\n",
       "    <tr>\n",
       "      <th>6</th>\n",
       "      <td>2</td>\n",
       "      <td>66200.000000</td>\n",
       "      <td>1058.300524</td>\n",
       "      <td>65500.0</td>\n",
       "      <td>2121.320344</td>\n",
       "    </tr>\n",
       "    <tr>\n",
       "      <th>12</th>\n",
       "      <td>3</td>\n",
       "      <td>115000.000000</td>\n",
       "      <td>14142.135624</td>\n",
       "      <td>120500.0</td>\n",
       "      <td>4769.696007</td>\n",
       "    </tr>\n",
       "    <tr>\n",
       "      <th>18</th>\n",
       "      <td>4</td>\n",
       "      <td>88250.000000</td>\n",
       "      <td>353.553391</td>\n",
       "      <td>85500.0</td>\n",
       "      <td>2121.320344</td>\n",
       "    </tr>\n",
       "    <tr>\n",
       "      <th>22</th>\n",
       "      <td>5</td>\n",
       "      <td>10150.000000</td>\n",
       "      <td>212.132034</td>\n",
       "      <td>16000.0</td>\n",
       "      <td>1414.213562</td>\n",
       "    </tr>\n",
       "    <tr>\n",
       "      <th>26</th>\n",
       "      <td>6</td>\n",
       "      <td>218666.666667</td>\n",
       "      <td>7767.453465</td>\n",
       "      <td>NaN</td>\n",
       "      <td>NaN</td>\n",
       "    </tr>\n",
       "  </tbody>\n",
       "</table>\n",
       "</div>"
      ],
      "text/plain": [
       "    vehicle_model_id  ext_mean_price  ext_std_price  int_mean_price  \\\n",
       "0                  1    78266.666667    2400.694344         76500.0   \n",
       "6                  2    66200.000000    1058.300524         65500.0   \n",
       "12                 3   115000.000000   14142.135624        120500.0   \n",
       "18                 4    88250.000000     353.553391         85500.0   \n",
       "22                 5    10150.000000     212.132034         16000.0   \n",
       "26                 6   218666.666667    7767.453465             NaN   \n",
       "\n",
       "    int_std_price  \n",
       "0     2121.320344  \n",
       "6     2121.320344  \n",
       "12    4769.696007  \n",
       "18    2121.320344  \n",
       "22    1414.213562  \n",
       "26            NaN  "
      ]
     },
     "execution_count": 11,
     "metadata": {},
     "output_type": "execute_result"
    }
   ],
   "source": [
    "#ahora mergeo, en el archivo externo se por enunciado que tengo -todos- los datos de los vehiculos de transacciones y mas,\n",
    "#por lo tanto el merge lo hago con how = 'right'\n",
    "resultado = transacciones.merge(scrapping, how = 'right', on = 'vehicle_model_id')\n",
    "\n",
    "resultado_final = resultado.loc[:,['vehicle_model_id','ext_mean_price','ext_std_price','int_mean_price','int_std_price']]\n",
    "resultado_final.drop_duplicates('vehicle_model_id')"
   ]
  }
 ],
 "metadata": {
  "kernelspec": {
   "display_name": "Python 3",
   "language": "python",
   "name": "python3"
  },
  "language_info": {
   "codemirror_mode": {
    "name": "ipython",
    "version": 3
   },
   "file_extension": ".py",
   "mimetype": "text/x-python",
   "name": "python",
   "nbconvert_exporter": "python",
   "pygments_lexer": "ipython3",
   "version": "3.8.5"
  }
 },
 "nbformat": 4,
 "nbformat_minor": 4
}
