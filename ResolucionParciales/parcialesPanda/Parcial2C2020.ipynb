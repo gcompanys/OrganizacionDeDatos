{
 "cells": [
  {
   "cell_type": "markdown",
   "metadata": {},
   "source": [
    "Enunciado\n",
    "Una importante compañía de e-commerce acumula información de las interacciones de sus usuarios con su plataforma mediante un motor de analytics. Esta información está disponible en un data frame para que sea analizada por nuestro equipo.\n",
    "\n",
    "El data frame llamado events.csv posee las siguientes columnas:\n",
    "\n",
    "uid: identificador único que representa a un usuario que visita la plataforma.\n",
    "\n",
    "sessionid: identificador único de la sesión que generó el usuario.\n",
    "\n",
    "event: nombre del evento que se generó.\n",
    "\n",
    "value: información adicional que se guarda con el evento.\n",
    "\n",
    "datetime: timedate64 que contiene fecha y hora del evento.\n",
    "\n",
    "Para poder realizar un análisis es necesario tener las siguientes consideraciones:\n",
    "\n",
    "Cada vez que un usuario visita la plataforma, el sistema le genera una nueva sesión con un sessionid asociado. Esto implica que un usuario puede realizar múltiples sesiones.\n",
    "\n",
    "Los eventos son interacciones que realiza el usuario con el sistema. Una sesión está compuesta por al menos un evento.\n",
    "\n",
    "Se le pide a nuestro equipo las siguientes tareas utilizando pandas:\n",
    "\n",
    "a) Listar aquellos usuarios que tengan un total de sesiones mayor al promedio de sesiones por usuario del sistema. Ej: si el promedio de los usuarios cuenta con 20 sesiones, se debe listar los usuarios que tengan más de 20 sesiones asociadas.\n",
    "\n",
    "b) Calcular el valor promedio de los eventos 'ecommerce.view-product', 'ecommerce.checkout', 'ecommerce.conversion' para aquellos usuarios que hayan realizado más de 25 (tomaremos 3 para el ejercicio) sesiones. Los resultados deben ser presentados en un dataframe con las siguientes columnas ('uid','ecommerce_view_product_mean', 'ecommerce_checkout_mean', 'ecommerce_conversion_mean').\n",
    "\n",
    "Nota: Es posible realizar el cálculo de los promedios en una única operación sobre un dataframe, por lo que soluciones que realizan el cálculo del promedio de cada métrica por separado serán consideradas como menos eficientes."
   ]
  },
  {
   "cell_type": "code",
   "execution_count": 1,
   "metadata": {},
   "outputs": [],
   "source": [
    "# importacion general de librerias y de visualizacion (matplotlib y seaborn)\n",
    "import pandas as pd\n",
    "import numpy as np\n",
    "import matplotlib.pyplot as plt\n",
    "import seaborn as sns\n",
    "\n",
    "%matplotlib inline\n",
    "\n",
    "plt.style.use('default') # haciendo los graficos un poco mas bonitos en matplotlib\n",
    "#plt.rcParams['figure.figsize'] = (20, 10)\n",
    "\n",
    "sns.set(style=\"whitegrid\") # seteando tipo de grid en seaborn\n",
    "\n",
    "pd.options.display.float_format = '{:20,.2f}'.format # suprimimos la notacion cientifica en los outputs\n",
    "\n",
    "import warnings\n",
    "warnings.filterwarnings('ignore')"
   ]
  },
  {
   "cell_type": "code",
   "execution_count": 25,
   "metadata": {},
   "outputs": [],
   "source": [
    "events = pd.DataFrame({ \n",
    "    'uid':[1,2,3,4,5,6,1,2,3,4,5,6,1,2,1,3,1,2,],\n",
    "    'sessionid':[1,2,3,4,5,6,7,8,9,10,11,12,13,14,15,16,17,18],\n",
    "    'event':['ecommerce.view-product', 'ecommerce.checkout', 'ecommerce.conversion', 'ecommerce.other', 'ecommerce.checkout', 'ecommerce.other','ecommerce.view-product', 'ecommerce.checkout', 'ecommerce.other', 'ecommerce.view-product', 'ecommerce.other', 'ecommerce.conversion','ecommerce.other', 'ecommerce.checkout', 'ecommerce.conversion', 'ecommerce.view-product', 'ecommerce.other', 'ecommerce.conversion'],\n",
    "    'value':[1,6,3,4,5,12,8,2,5,7,5,6,1,2,9,4,2,6],\n",
    "    'datetime':['2021-03-16','2021-03-17','2021-03-18','2021-03-17','2021-03-16','2021-03-15','2021-03-16','2021-03-17','2021-03-18','2021-03-17','2021-03-16','2021-03-15','2021-03-16','2021-03-17','2021-03-18','2021-03-17','2021-03-16','2021-03-15']\n",
    "\n",
    "})"
   ]
  },
  {
   "cell_type": "code",
   "execution_count": 26,
   "metadata": {},
   "outputs": [],
   "source": [
    "users = pd.DataFrame({\n",
    "    'uid':[1,2,3,4,5,6],\n",
    "    'name':['User1','User2','User3','User4','User5','User6']\n",
    "})"
   ]
  },
  {
   "cell_type": "code",
   "execution_count": 36,
   "metadata": {},
   "outputs": [],
   "source": [
    "#Listar aquellos usuarios que tengan un total de sesiones mayor al promedio de sesiones por usuario del sistema. \n",
    "#Ej: si el promedio de los usuarios cuenta con 20 sesiones, se debe listar los usuarios \n",
    "#que tengan más de 20 sesiones asociadas.\n",
    "events['cantidad_sesiones'] = events.groupby('uid')['sessionid'].transform('count')"
   ]
  },
  {
   "cell_type": "code",
   "execution_count": 42,
   "metadata": {},
   "outputs": [
    {
     "data": {
      "text/plain": [
       "3.0"
      ]
     },
     "execution_count": 42,
     "metadata": {},
     "output_type": "execute_result"
    }
   ],
   "source": [
    "average = events[['uid','cantidad_sesiones']].drop_duplicates()['cantidad_sesiones'].mean()\n",
    "average"
   ]
  },
  {
   "cell_type": "code",
   "execution_count": 44,
   "metadata": {},
   "outputs": [
    {
     "data": {
      "text/html": [
       "<div>\n",
       "<style scoped>\n",
       "    .dataframe tbody tr th:only-of-type {\n",
       "        vertical-align: middle;\n",
       "    }\n",
       "\n",
       "    .dataframe tbody tr th {\n",
       "        vertical-align: top;\n",
       "    }\n",
       "\n",
       "    .dataframe thead th {\n",
       "        text-align: right;\n",
       "    }\n",
       "</style>\n",
       "<table border=\"1\" class=\"dataframe\">\n",
       "  <thead>\n",
       "    <tr style=\"text-align: right;\">\n",
       "      <th></th>\n",
       "      <th>uid</th>\n",
       "      <th>sessionid</th>\n",
       "      <th>event</th>\n",
       "      <th>value</th>\n",
       "      <th>datetime</th>\n",
       "      <th>cantidad_sesiones</th>\n",
       "    </tr>\n",
       "  </thead>\n",
       "  <tbody>\n",
       "    <tr>\n",
       "      <th>0</th>\n",
       "      <td>1</td>\n",
       "      <td>1</td>\n",
       "      <td>ecommerce.view-product</td>\n",
       "      <td>1</td>\n",
       "      <td>2021-03-16</td>\n",
       "      <td>5</td>\n",
       "    </tr>\n",
       "    <tr>\n",
       "      <th>1</th>\n",
       "      <td>2</td>\n",
       "      <td>2</td>\n",
       "      <td>ecommerce.checkout</td>\n",
       "      <td>6</td>\n",
       "      <td>2021-03-17</td>\n",
       "      <td>4</td>\n",
       "    </tr>\n",
       "    <tr>\n",
       "      <th>6</th>\n",
       "      <td>1</td>\n",
       "      <td>7</td>\n",
       "      <td>ecommerce.view-product</td>\n",
       "      <td>8</td>\n",
       "      <td>2021-03-16</td>\n",
       "      <td>5</td>\n",
       "    </tr>\n",
       "    <tr>\n",
       "      <th>7</th>\n",
       "      <td>2</td>\n",
       "      <td>8</td>\n",
       "      <td>ecommerce.checkout</td>\n",
       "      <td>2</td>\n",
       "      <td>2021-03-17</td>\n",
       "      <td>4</td>\n",
       "    </tr>\n",
       "    <tr>\n",
       "      <th>12</th>\n",
       "      <td>1</td>\n",
       "      <td>13</td>\n",
       "      <td>ecommerce.other</td>\n",
       "      <td>1</td>\n",
       "      <td>2021-03-16</td>\n",
       "      <td>5</td>\n",
       "    </tr>\n",
       "    <tr>\n",
       "      <th>13</th>\n",
       "      <td>2</td>\n",
       "      <td>14</td>\n",
       "      <td>ecommerce.checkout</td>\n",
       "      <td>2</td>\n",
       "      <td>2021-03-17</td>\n",
       "      <td>4</td>\n",
       "    </tr>\n",
       "    <tr>\n",
       "      <th>14</th>\n",
       "      <td>1</td>\n",
       "      <td>15</td>\n",
       "      <td>ecommerce.conversion</td>\n",
       "      <td>9</td>\n",
       "      <td>2021-03-18</td>\n",
       "      <td>5</td>\n",
       "    </tr>\n",
       "    <tr>\n",
       "      <th>16</th>\n",
       "      <td>1</td>\n",
       "      <td>17</td>\n",
       "      <td>ecommerce.other</td>\n",
       "      <td>2</td>\n",
       "      <td>2021-03-16</td>\n",
       "      <td>5</td>\n",
       "    </tr>\n",
       "    <tr>\n",
       "      <th>17</th>\n",
       "      <td>2</td>\n",
       "      <td>18</td>\n",
       "      <td>ecommerce.conversion</td>\n",
       "      <td>6</td>\n",
       "      <td>2021-03-15</td>\n",
       "      <td>4</td>\n",
       "    </tr>\n",
       "  </tbody>\n",
       "</table>\n",
       "</div>"
      ],
      "text/plain": [
       "    uid  sessionid                   event  value    datetime  \\\n",
       "0     1          1  ecommerce.view-product      1  2021-03-16   \n",
       "1     2          2      ecommerce.checkout      6  2021-03-17   \n",
       "6     1          7  ecommerce.view-product      8  2021-03-16   \n",
       "7     2          8      ecommerce.checkout      2  2021-03-17   \n",
       "12    1         13         ecommerce.other      1  2021-03-16   \n",
       "13    2         14      ecommerce.checkout      2  2021-03-17   \n",
       "14    1         15    ecommerce.conversion      9  2021-03-18   \n",
       "16    1         17         ecommerce.other      2  2021-03-16   \n",
       "17    2         18    ecommerce.conversion      6  2021-03-15   \n",
       "\n",
       "    cantidad_sesiones  \n",
       "0                   5  \n",
       "1                   4  \n",
       "6                   5  \n",
       "7                   4  \n",
       "12                  5  \n",
       "13                  4  \n",
       "14                  5  \n",
       "16                  5  \n",
       "17                  4  "
      ]
     },
     "execution_count": 44,
     "metadata": {},
     "output_type": "execute_result"
    }
   ],
   "source": [
    "#filtro aquellos que cumplan lo pedido\n",
    "filtered_users = events.loc[events['cantidad_sesiones'] > promedio]\n",
    "filtered_users\n",
    "#si me interesa ver detalles de cada sesion esta seria la respuesta"
   ]
  },
  {
   "cell_type": "code",
   "execution_count": 53,
   "metadata": {},
   "outputs": [
    {
     "data": {
      "text/html": [
       "<div>\n",
       "<style scoped>\n",
       "    .dataframe tbody tr th:only-of-type {\n",
       "        vertical-align: middle;\n",
       "    }\n",
       "\n",
       "    .dataframe tbody tr th {\n",
       "        vertical-align: top;\n",
       "    }\n",
       "\n",
       "    .dataframe thead th {\n",
       "        text-align: right;\n",
       "    }\n",
       "</style>\n",
       "<table border=\"1\" class=\"dataframe\">\n",
       "  <thead>\n",
       "    <tr style=\"text-align: right;\">\n",
       "      <th></th>\n",
       "      <th>uid</th>\n",
       "    </tr>\n",
       "  </thead>\n",
       "  <tbody>\n",
       "    <tr>\n",
       "      <th>0</th>\n",
       "      <td>1</td>\n",
       "    </tr>\n",
       "    <tr>\n",
       "      <th>1</th>\n",
       "      <td>2</td>\n",
       "    </tr>\n",
       "    <tr>\n",
       "      <th>2</th>\n",
       "      <td>3</td>\n",
       "    </tr>\n",
       "    <tr>\n",
       "      <th>3</th>\n",
       "      <td>4</td>\n",
       "    </tr>\n",
       "    <tr>\n",
       "      <th>4</th>\n",
       "      <td>5</td>\n",
       "    </tr>\n",
       "    <tr>\n",
       "      <th>5</th>\n",
       "      <td>6</td>\n",
       "    </tr>\n",
       "  </tbody>\n",
       "</table>\n",
       "</div>"
      ],
      "text/plain": [
       "   uid\n",
       "0    1\n",
       "1    2\n",
       "2    3\n",
       "3    4\n",
       "4    5\n",
       "5    6"
      ]
     },
     "execution_count": 53,
     "metadata": {},
     "output_type": "execute_result"
    }
   ],
   "source": [
    "#si solo quisiear lista los usuarios que cumple lo pedido hago\n",
    "filtered_users_unique = events['uid'].drop_duplicates().to_frame()\n",
    "filtered_users_unique"
   ]
  },
  {
   "cell_type": "markdown",
   "metadata": {},
   "source": [
    " Calcular el valor promedio de los eventos 'ecommerce.view-product', 'ecommerce.checkout', 'ecommerce.conversion' para aquellos usuarios que hayan realizado más de 25 (tomaremos 3 para el ejercicio) sesiones. Los resultados deben ser presentados en un dataframe con las siguientes columnas ('uid','ecommerce_view_product_mean', 'ecommerce_checkout_mean', 'ecommerce_conversion_mean')."
   ]
  },
  {
   "cell_type": "code",
   "execution_count": 61,
   "metadata": {},
   "outputs": [],
   "source": [
    "#defino mis condiciones pedidas\n",
    "condition1 = events['cantidad_sesiones'] > 3\n",
    "condition2 = (events['event']=='ecommerce.view-product')|(events['event']=='ecommerce.checkout')|(events['event']=='ecommerce.conversion')"
   ]
  },
  {
   "cell_type": "code",
   "execution_count": 73,
   "metadata": {},
   "outputs": [
    {
     "data": {
      "text/html": [
       "<div>\n",
       "<style scoped>\n",
       "    .dataframe tbody tr th:only-of-type {\n",
       "        vertical-align: middle;\n",
       "    }\n",
       "\n",
       "    .dataframe tbody tr th {\n",
       "        vertical-align: top;\n",
       "    }\n",
       "\n",
       "    .dataframe thead th {\n",
       "        text-align: right;\n",
       "    }\n",
       "</style>\n",
       "<table border=\"1\" class=\"dataframe\">\n",
       "  <thead>\n",
       "    <tr style=\"text-align: right;\">\n",
       "      <th></th>\n",
       "      <th>uid</th>\n",
       "      <th>eccomerce_view_product_mean</th>\n",
       "      <th>ecommerce_checkout_mean</th>\n",
       "      <th>ecommerce_conversion_mean</th>\n",
       "    </tr>\n",
       "  </thead>\n",
       "  <tbody>\n",
       "    <tr>\n",
       "      <th>0</th>\n",
       "      <td>1</td>\n",
       "      <td>4.50</td>\n",
       "      <td>nan</td>\n",
       "      <td>9.00</td>\n",
       "    </tr>\n",
       "    <tr>\n",
       "      <th>1</th>\n",
       "      <td>2</td>\n",
       "      <td>nan</td>\n",
       "      <td>3.33</td>\n",
       "      <td>6.00</td>\n",
       "    </tr>\n",
       "  </tbody>\n",
       "</table>\n",
       "</div>"
      ],
      "text/plain": [
       "   uid  eccomerce_view_product_mean  ecommerce_checkout_mean  \\\n",
       "0    1                         4.50                      nan   \n",
       "1    2                          nan                     3.33   \n",
       "\n",
       "   ecommerce_conversion_mean  \n",
       "0                       9.00  \n",
       "1                       6.00  "
      ]
     },
     "execution_count": 73,
     "metadata": {},
     "output_type": "execute_result"
    }
   ],
   "source": [
    "filtered_user_b = events.loc[(condition1) & (condition2)]\n",
    "result = filtered_user_b.pivot_table(index='uid', columns='event',values='value', aggfunc='mean').reset_index()\n",
    "result=result[['uid','ecommerce.view-product', 'ecommerce.checkout', 'ecommerce.conversion']]\n",
    "result.columns = ['uid','eccomerce_view_product_mean','ecommerce_checkout_mean','ecommerce_conversion_mean']\n",
    "result"
   ]
  }
 ],
 "metadata": {
  "kernelspec": {
   "display_name": "Python 3",
   "language": "python",
   "name": "python3"
  },
  "language_info": {
   "codemirror_mode": {
    "name": "ipython",
    "version": 3
   },
   "file_extension": ".py",
   "mimetype": "text/x-python",
   "name": "python",
   "nbconvert_exporter": "python",
   "pygments_lexer": "ipython3",
   "version": "3.8.5"
  }
 },
 "nbformat": 4,
 "nbformat_minor": 4
}
