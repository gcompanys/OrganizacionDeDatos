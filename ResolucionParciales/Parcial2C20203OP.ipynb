{
 "cells": [
  {
   "cell_type": "markdown",
   "metadata": {},
   "source": [
    "(***) Un equipo del Ministerio de Salud de la Nación se encuentra realizando distintos análisis de datos a partir de la información que tienen unificada a nivel nacional de los sistemas de información para el seguimiento de la campaña de vacunación contra el sars-cov-2.\n",
    "\n",
    "Es por ello que cuentan con información en los siguientes archivos csv:\n",
    "\n",
    "```\n",
    "centro_de_vacunacion.csv (id_centro_vacunacion, nombre, direccion, codigo_postal, partido, provincia)\n",
    "```\n",
    "\n",
    "```\n",
    "categoria_plan_vacunacion.csv  (id_categoria, nombre_categoria, prioridad)\n",
    "```\n",
    "\n",
    "```\n",
    "aplicaciones.csv (id_ciudadano, fecha_aplicacion, id_categoria, id_centro_vacunacion, id_unico_dosis_vacuna, id_tipo_vacuna)\n",
    "```\n",
    "<blockquote>\n",
    "El primer archivo cuenta con información de los distintos centros de vacunación a lo largo y ancho del país donde se realizan aplicaciones de las vacunas disponibles. Este archivo nos da información geográfica de donde se encuentran los centros de vacunación en cada provincia.\n",
    "\n",
    "El segundo tiene información de las distintas categorías que tiene el plan de vacunación, y la prioridad de las mismas, las cuales son valores numéricos siendo el valor 1 el valor más alto de prioridad. Por ejemplo, la categoría “Personal Esencial: Salud” tiene prioridad 1. Tener en cuenta que múltiples categorías pueden tener el mismo número de prioridad.\n",
    "\n",
    "En el último archivo, contamos con la información de ciudadanos que se fueron realizando aplicaciones dentro del plan de vacunación, cuando se aplicó la misma (en formato “YYYY-mm-dd”), en que lugar y bajo qué categoría se hizo. Algo a considerar aquí es que también contamos con información específica de la dosis que se le aplicó a la personas y el id del tipo de vacuna.\n",
    "\n",
    "Algo importante a considerar es que en la Argentina solamente se cuenta por el momento con vacunas que requieren 2 dosis para tener inmunidad completa, es por eso que en aplicaciones.csv pueden haber múltiples entradas por ciudadano.\n",
    "\n",
    "Se desea:\n",
    "\n",
    "a) Indicar el porcentaje de ciudadanos vacunados en prioridad 1 que tienen inmunidad completa (recibieron dos aplicaciones de vacuna).\n",
    "\n",
    "b) Indicar cual es el top 5 de provincias que han inmunizado de forma completa a mayor cantidad de ciudadanos (es decir realizando dos aplicaciones de la vacuna) en el periodo temporal de diciembre de 2020 a marzo (inclusive) de 2021.\n",
    "</blockquote>\n"
   ]
  },
  {
   "cell_type": "markdown",
   "metadata": {},
   "source": [
    "**<blockquote>\n",
    "    a) Indicar el porcentaje de ciudadanos vacunados en prioridad 1 que tienen inmunidad completa (recibieron dos aplicaciones de vacuna).\n",
    "    </blockquote>**"
   ]
  },
  {
   "cell_type": "code",
   "execution_count": 173,
   "metadata": {},
   "outputs": [],
   "source": [
    "import pandas as pd \n",
    "import numpy as np\n",
    "import random as rd"
   ]
  },
  {
   "cell_type": "code",
   "execution_count": 174,
   "metadata": {},
   "outputs": [],
   "source": [
    "id_ciudadano = np.random.randint(1, high = 10, size = 20)\n",
    "id_centro_vacunacion = rd.sample(range(1,21),20)\n",
    "id_categoria = rd.sample(range(1,21),20)\n",
    "id_provincia = np.random.randint(1, high = 5, size = 20)\n",
    "\n",
    "\n",
    "centros_data = {\n",
    "        'id_centro_vacunacion': id_centro_vacunacion,\n",
    "        'nombre': id_centro_vacunacion,\n",
    "        'direccion': id_centro_vacunacion,\n",
    "        'codigo_postal': id_centro_vacunacion,\n",
    "        'partido': id_centro_vacunacion,\n",
    "        'provincia': id_provincia, \n",
    "}\n",
    "\n",
    "categoria_data = {\n",
    "        'id_categoria': id_categoria,\n",
    "        'nombre_categoria': id_categoria,\n",
    "        'prioridad': np.random.randint(1, high=5, size=20),\n",
    "}\n",
    "\n",
    "aplicaciones_data = {\n",
    "        'id_ciudadano': id_ciudadano,\n",
    "        'fecha': pd.date_range(start = '2020-11-01', end='2021-04-01', periods=20),\n",
    "        'id_categoria': id_categoria,\n",
    "        'id_centro_vacunacion': id_centro_vacunacion,\n",
    "        'id_unico_dosis_vacuna': rd.sample(range(1,199), 20),\n",
    "        'id_tipo_vacuna': np.random.randint(1,high=3, size=20), \n",
    "}"
   ]
  },
  {
   "cell_type": "code",
   "execution_count": 175,
   "metadata": {},
   "outputs": [],
   "source": [
    "centro_vacunacion = pd.DataFrame(centros_data, columns=centros_data.keys())\n",
    "categoria_plan_vacunacion = pd.DataFrame(categoria_data, columns=categoria_data.keys())\n",
    "aplicaciones = pd.DataFrame(aplicaciones_data, columns=aplicaciones_data.keys())"
   ]
  },
  {
   "cell_type": "code",
   "execution_count": 176,
   "metadata": {},
   "outputs": [
    {
     "data": {
      "text/plain": [
       "20"
      ]
     },
     "execution_count": 176,
     "metadata": {},
     "output_type": "execute_result"
    }
   ],
   "source": [
    "#quiero la cantidad de ciudadanos para luego hacer el porcentaje de full inmunizados, y elimino duplicados para no contar de mas \n",
    "cantidadTotalCiudadanos = len(aplicaciones)\n",
    "cantidadTotalCiudadanos"
   ]
  },
  {
   "cell_type": "code",
   "execution_count": 177,
   "metadata": {},
   "outputs": [],
   "source": [
    "#primero filtro ciudadanos inmunizados\n",
    "aplicaciones['cantidad_dosis_aplicadas'] = aplicaciones.groupby('id_ciudadano')['id_unico_dosis_vacuna'].transform('count')\n",
    "ciudadanos_inmunizados = aplicaciones.loc[aplicaciones['cantidad_dosis_aplicadas'] == 2, ['id_ciudadano','id_categoria','id_centro_vacunacion']]"
   ]
  },
  {
   "cell_type": "code",
   "execution_count": 178,
   "metadata": {},
   "outputs": [],
   "source": [
    "#segundo filtro por personas vacunadas con priorida uno \n",
    "ciudadanos_prioritarios = categoria_plan_vacunacion.loc[categoria_plan_vacunacion['prioridad'] == 1, ['id_categoria','nombre_categoria']]"
   ]
  },
  {
   "cell_type": "code",
   "execution_count": 179,
   "metadata": {},
   "outputs": [
    {
     "name": "stdout",
     "output_type": "stream",
     "text": [
      "El porcentaje de ciudadanos inmunizados con prioridad 1 es % 20.0\n"
     ]
    }
   ],
   "source": [
    "#hago un merge entre estos dateframes, en este caso usando un inner\n",
    "resultado_A = ciudadanos_prioritarios.merge(ciudadanos_inmunizados, how = 'inner')\n",
    "cantidadCiudadanosInmunizados = resultado_A['id_ciudadano'].count()\n",
    "\n",
    "porcentajeInmunizados = (cantidadCiudadanosInmunizados*100)/cantidadTotalCiudadanos\n",
    "print('El porcentaje de ciudadanos inmunizados con prioridad 1 es %',porcentajeInmunizados)"
   ]
  },
  {
   "cell_type": "markdown",
   "metadata": {},
   "source": [
    "**<blockquote>\n",
    "    b) Indicar cual es el top 5 de provincias que han inmunizado de forma completa a mayor cantidad de ciudadanos (es decir realizando dos aplicaciones de la vacuna) en el periodo temporal de diciembre de 2020 a marzo (inclusive) de 2021.\n",
    "    </blockquote>**"
   ]
  },
  {
   "cell_type": "code",
   "execution_count": 180,
   "metadata": {},
   "outputs": [
    {
     "data": {
      "text/html": [
       "<div>\n",
       "<style scoped>\n",
       "    .dataframe tbody tr th:only-of-type {\n",
       "        vertical-align: middle;\n",
       "    }\n",
       "\n",
       "    .dataframe tbody tr th {\n",
       "        vertical-align: top;\n",
       "    }\n",
       "\n",
       "    .dataframe thead th {\n",
       "        text-align: right;\n",
       "    }\n",
       "</style>\n",
       "<table border=\"1\" class=\"dataframe\">\n",
       "  <thead>\n",
       "    <tr style=\"text-align: right;\">\n",
       "      <th></th>\n",
       "      <th>id_centro_vacunacion</th>\n",
       "      <th>id_categoria</th>\n",
       "    </tr>\n",
       "  </thead>\n",
       "  <tbody>\n",
       "    <tr>\n",
       "      <th>4</th>\n",
       "      <td>16</td>\n",
       "      <td>11</td>\n",
       "    </tr>\n",
       "    <tr>\n",
       "      <th>5</th>\n",
       "      <td>7</td>\n",
       "      <td>5</td>\n",
       "    </tr>\n",
       "    <tr>\n",
       "      <th>6</th>\n",
       "      <td>17</td>\n",
       "      <td>14</td>\n",
       "    </tr>\n",
       "    <tr>\n",
       "      <th>7</th>\n",
       "      <td>12</td>\n",
       "      <td>4</td>\n",
       "    </tr>\n",
       "    <tr>\n",
       "      <th>8</th>\n",
       "      <td>5</td>\n",
       "      <td>1</td>\n",
       "    </tr>\n",
       "    <tr>\n",
       "      <th>9</th>\n",
       "      <td>10</td>\n",
       "      <td>15</td>\n",
       "    </tr>\n",
       "    <tr>\n",
       "      <th>10</th>\n",
       "      <td>14</td>\n",
       "      <td>2</td>\n",
       "    </tr>\n",
       "    <tr>\n",
       "      <th>11</th>\n",
       "      <td>15</td>\n",
       "      <td>17</td>\n",
       "    </tr>\n",
       "    <tr>\n",
       "      <th>12</th>\n",
       "      <td>11</td>\n",
       "      <td>3</td>\n",
       "    </tr>\n",
       "    <tr>\n",
       "      <th>13</th>\n",
       "      <td>20</td>\n",
       "      <td>7</td>\n",
       "    </tr>\n",
       "    <tr>\n",
       "      <th>14</th>\n",
       "      <td>19</td>\n",
       "      <td>20</td>\n",
       "    </tr>\n",
       "    <tr>\n",
       "      <th>15</th>\n",
       "      <td>13</td>\n",
       "      <td>18</td>\n",
       "    </tr>\n",
       "    <tr>\n",
       "      <th>16</th>\n",
       "      <td>2</td>\n",
       "      <td>8</td>\n",
       "    </tr>\n",
       "    <tr>\n",
       "      <th>17</th>\n",
       "      <td>4</td>\n",
       "      <td>6</td>\n",
       "    </tr>\n",
       "    <tr>\n",
       "      <th>18</th>\n",
       "      <td>18</td>\n",
       "      <td>12</td>\n",
       "    </tr>\n",
       "  </tbody>\n",
       "</table>\n",
       "</div>"
      ],
      "text/plain": [
       "    id_centro_vacunacion  id_categoria\n",
       "4                     16            11\n",
       "5                      7             5\n",
       "6                     17            14\n",
       "7                     12             4\n",
       "8                      5             1\n",
       "9                     10            15\n",
       "10                    14             2\n",
       "11                    15            17\n",
       "12                    11             3\n",
       "13                    20             7\n",
       "14                    19            20\n",
       "15                    13            18\n",
       "16                     2             8\n",
       "17                     4             6\n",
       "18                    18            12"
      ]
     },
     "execution_count": 180,
     "metadata": {},
     "output_type": "execute_result"
    }
   ],
   "source": [
    "#convierto al tipo datetime la columna fecha_aplicacion del df aplicaciones\n",
    "aplicaciones['fecha'] = pd.to_datetime(aplicaciones['fecha'])\n",
    "fecha_comienzo = pd.to_datetime('2020-12-01')\n",
    "fecha_final = pd.to_datetime('2021-03-31')\n",
    "periodo_temporal = (fecha_comienzo <= aplicaciones['fecha']) & (aplicaciones['fecha'] <= fecha_final)\n",
    "aplicaciones_en_periodo_deseado = aplicaciones.loc[periodo_temporal, ['id_centro_vacunacion','id_categoria']]\n",
    "aplicaciones_en_periodo_deseado"
   ]
  },
  {
   "cell_type": "code",
   "execution_count": 181,
   "metadata": {},
   "outputs": [
    {
     "data": {
      "text/html": [
       "<div>\n",
       "<style scoped>\n",
       "    .dataframe tbody tr th:only-of-type {\n",
       "        vertical-align: middle;\n",
       "    }\n",
       "\n",
       "    .dataframe tbody tr th {\n",
       "        vertical-align: top;\n",
       "    }\n",
       "\n",
       "    .dataframe thead th {\n",
       "        text-align: right;\n",
       "    }\n",
       "</style>\n",
       "<table border=\"1\" class=\"dataframe\">\n",
       "  <thead>\n",
       "    <tr style=\"text-align: right;\">\n",
       "      <th></th>\n",
       "      <th>id_ciudadano</th>\n",
       "      <th>id_categoria</th>\n",
       "      <th>id_centro_vacunacion</th>\n",
       "    </tr>\n",
       "  </thead>\n",
       "  <tbody>\n",
       "    <tr>\n",
       "      <th>0</th>\n",
       "      <td>8</td>\n",
       "      <td>11</td>\n",
       "      <td>16</td>\n",
       "    </tr>\n",
       "    <tr>\n",
       "      <th>1</th>\n",
       "      <td>2</td>\n",
       "      <td>14</td>\n",
       "      <td>17</td>\n",
       "    </tr>\n",
       "    <tr>\n",
       "      <th>2</th>\n",
       "      <td>4</td>\n",
       "      <td>1</td>\n",
       "      <td>5</td>\n",
       "    </tr>\n",
       "    <tr>\n",
       "      <th>3</th>\n",
       "      <td>2</td>\n",
       "      <td>7</td>\n",
       "      <td>20</td>\n",
       "    </tr>\n",
       "    <tr>\n",
       "      <th>4</th>\n",
       "      <td>3</td>\n",
       "      <td>20</td>\n",
       "      <td>19</td>\n",
       "    </tr>\n",
       "    <tr>\n",
       "      <th>5</th>\n",
       "      <td>1</td>\n",
       "      <td>18</td>\n",
       "      <td>13</td>\n",
       "    </tr>\n",
       "    <tr>\n",
       "      <th>6</th>\n",
       "      <td>8</td>\n",
       "      <td>8</td>\n",
       "      <td>2</td>\n",
       "    </tr>\n",
       "    <tr>\n",
       "      <th>7</th>\n",
       "      <td>1</td>\n",
       "      <td>6</td>\n",
       "      <td>4</td>\n",
       "    </tr>\n",
       "  </tbody>\n",
       "</table>\n",
       "</div>"
      ],
      "text/plain": [
       "   id_ciudadano  id_categoria  id_centro_vacunacion\n",
       "0             8            11                    16\n",
       "1             2            14                    17\n",
       "2             4             1                     5\n",
       "3             2             7                    20\n",
       "4             3            20                    19\n",
       "5             1            18                    13\n",
       "6             8             8                     2\n",
       "7             1             6                     4"
      ]
     },
     "execution_count": 181,
     "metadata": {},
     "output_type": "execute_result"
    }
   ],
   "source": [
    "#reutilizo el df de ciudadanos_inmunizados para mergear\n",
    "\n",
    "resultado_B = ciudadanos_inmunizados.merge(aplicaciones_en_periodo_deseado, how = 'inner')\n",
    "resultado_B"
   ]
  },
  {
   "cell_type": "code",
   "execution_count": 182,
   "metadata": {},
   "outputs": [],
   "source": [
    "#ahora hago un merge con la clave 'id_centro_vacunacion'\n",
    "resultado_B = centro_vacunacion.merge(resultado_B, how = 'inner')\n",
    "#en este caso el join puedo hacer tanto inner como right\n",
    "resultado_B = resultado_B.loc[:,['id_centro_vacunacion','provincia']]"
   ]
  },
  {
   "cell_type": "code",
   "execution_count": 183,
   "metadata": {},
   "outputs": [
    {
     "data": {
      "text/html": [
       "<div>\n",
       "<style scoped>\n",
       "    .dataframe tbody tr th:only-of-type {\n",
       "        vertical-align: middle;\n",
       "    }\n",
       "\n",
       "    .dataframe tbody tr th {\n",
       "        vertical-align: top;\n",
       "    }\n",
       "\n",
       "    .dataframe thead th {\n",
       "        text-align: right;\n",
       "    }\n",
       "</style>\n",
       "<table border=\"1\" class=\"dataframe\">\n",
       "  <thead>\n",
       "    <tr style=\"text-align: right;\">\n",
       "      <th></th>\n",
       "      <th>provincia</th>\n",
       "      <th>cantidad_vacunados</th>\n",
       "    </tr>\n",
       "  </thead>\n",
       "  <tbody>\n",
       "    <tr>\n",
       "      <th>0</th>\n",
       "      <td>2</td>\n",
       "      <td>3</td>\n",
       "    </tr>\n",
       "    <tr>\n",
       "      <th>3</th>\n",
       "      <td>4</td>\n",
       "      <td>3</td>\n",
       "    </tr>\n",
       "    <tr>\n",
       "      <th>2</th>\n",
       "      <td>3</td>\n",
       "      <td>2</td>\n",
       "    </tr>\n",
       "  </tbody>\n",
       "</table>\n",
       "</div>"
      ],
      "text/plain": [
       "   provincia  cantidad_vacunados\n",
       "0          2                   3\n",
       "3          4                   3\n",
       "2          3                   2"
      ]
     },
     "execution_count": 183,
     "metadata": {},
     "output_type": "execute_result"
    }
   ],
   "source": [
    "#agrego una columna que me cuente la cantidad de vacunados por provincia\n",
    "resultado_B['cantidad_vacunados'] = resultado_B.groupby('provincia').transform('count')\n",
    "resultado_B.drop_duplicates('provincia').nlargest(5,'cantidad_vacunados').loc[:,['provincia','cantidad_vacunados']]"
   ]
  }
 ],
 "metadata": {
  "kernelspec": {
   "display_name": "Python 3",
   "language": "python",
   "name": "python3"
  },
  "language_info": {
   "codemirror_mode": {
    "name": "ipython",
    "version": 3
   },
   "file_extension": ".py",
   "mimetype": "text/x-python",
   "name": "python",
   "nbconvert_exporter": "python",
   "pygments_lexer": "ipython3",
   "version": "3.8.5"
  }
 },
 "nbformat": 4,
 "nbformat_minor": 4
}
