{
 "cells": [
  {
   "cell_type": "markdown",
   "metadata": {},
   "source": [
    "La Agencia Nacional de Estadísticas de Buenos Aires recolecta información de nacimientos cuando los padres registran a sus hijos en el registro civil a partir de una encuesta.\n",
    "\n",
    "Esa información se encuentra disponible para su análisis en un csv con el siguiente formato (dia_nacimiento, mes_nacimiento, anio_nacimiento, peso_al_nacer, longitud_al_nacer, id_hospital, tipo_parto), donde el tipo de parto 1 es natural y 2 es cesárea.\n",
    "\n",
    "Por otro lado la agencia cuenta con información histórica de los hospitales en otro csv con siguiente formato (id_hospital, dirección, promedio_nacimientos_mensual).\n",
    "\n",
    "Se pide usar Pandas para:\n",
    "<blockquote>\n",
    "1)Calcular la cantidad de nacimientos para cada uno de los hospitales para el mes de Octubre de 2017 e indicar aquellos hospitales que superan el promedio de nacimientos mensuales.\n",
    "\n",
    "2)Comparando el mes de Octubre de 2017 indicar programáticamente si se incremento el % de cesáreas con respecto a ese mes del año 2016.\n",
    "    </blockquote>"
   ]
  },
  {
   "cell_type": "code",
   "execution_count": 61,
   "metadata": {},
   "outputs": [],
   "source": [
    "import pandas as pd \n",
    "import numpy as np "
   ]
  },
  {
   "cell_type": "code",
   "execution_count": 108,
   "metadata": {},
   "outputs": [],
   "source": [
    "data_nacimientos = {'dia_nacimiento': [21,13,4,12,11,15,27,13,22,19,30],\\\n",
    "                   'mes_nacimiento': [9,9,8,9,3,9,9,9,2,9,9],\\\n",
    "                   'anio_nacimiento': [2016,2016,2020,2017,2019,2017,2017,2017,2017,2017,2017],\\\n",
    "                    'peso_al_nacer': [2,1,2,2,2,1,2,1,4,3,1],\\\n",
    "                    'longitud_al_nacer': [1,1,1,1,1,1,1,1,1,1,1],\\\n",
    "                    'id_hospital': [1,2,3,4,5,11,11,10,10,10,11],\\\n",
    "                    'tipo_parto': [2,2,2,1,1,1,2,1,2,1,2]\n",
    "                   }\n",
    "\n",
    "data_hospitales = {'id_hospital': [2,3,4,1,5,6,8,9,7,10,11],\\\n",
    "                  'direccion': ['dic1','dic2','dic3','dic4','dic5','dic6','dic7','dic8','dic9','dic10','dic11'],\\\n",
    "                   'promedio_nacimientos_mensual':[1,1,4,5,6,4,5,3,2,1,2]\n",
    "                  }"
   ]
  },
  {
   "cell_type": "markdown",
   "metadata": {},
   "source": [
    "(dia_nacimiento, mes_nacimiento, anio_nacimiento, peso_al_nacer, longitud_al_nacer, id_hospital, tipo_parto)\n",
    "\n",
    "(id_hospital, dirección, promedio_nacimientos_mensual)\n",
    "\n",
    "\n",
    "**Calcular la cantidad de nacimientos para cada uno de los hospitales para el mes de Septiembre de 2017 e indicar aquellos hospitales que superan el promedio de nacimientos mensuales.**"
   ]
  },
  {
   "cell_type": "code",
   "execution_count": 109,
   "metadata": {},
   "outputs": [],
   "source": [
    "nacimientos = pd.DataFrame(data_nacimientos, columns = data_nacimientos.keys())\n",
    "info_hospitales = pd.DataFrame(data_hospitales, columns = data_hospitales.keys())"
   ]
  },
  {
   "cell_type": "code",
   "execution_count": 110,
   "metadata": {},
   "outputs": [],
   "source": [
    "#filtro por fecha pedida\n",
    "nacimientos_octubre = nacimientos.loc[(nacimientos['mes_nacimiento'] == 9) & (nacimientos['anio_nacimiento'] == 2017), ['id_hospital']]"
   ]
  },
  {
   "cell_type": "code",
   "execution_count": 111,
   "metadata": {},
   "outputs": [],
   "source": [
    "merge_df = nacimientos_octubre.merge(info_hospitales, how = 'inner')"
   ]
  },
  {
   "cell_type": "code",
   "execution_count": 112,
   "metadata": {},
   "outputs": [],
   "source": [
    "#uso la columan direccion unicamente para contar, uso size porque con count no estoy seguro que todos los valores sean no NaN\n",
    "merge_df['cantidad_nacimientos_octubre'] = merge_df.groupby('id_hospital')['direccion'].transform('size')\n",
    "merge_df.drop_duplicates(inplace = True)"
   ]
  },
  {
   "cell_type": "code",
   "execution_count": 113,
   "metadata": {},
   "outputs": [
    {
     "data": {
      "text/html": [
       "<div>\n",
       "<style scoped>\n",
       "    .dataframe tbody tr th:only-of-type {\n",
       "        vertical-align: middle;\n",
       "    }\n",
       "\n",
       "    .dataframe tbody tr th {\n",
       "        vertical-align: top;\n",
       "    }\n",
       "\n",
       "    .dataframe thead th {\n",
       "        text-align: right;\n",
       "    }\n",
       "</style>\n",
       "<table border=\"1\" class=\"dataframe\">\n",
       "  <thead>\n",
       "    <tr style=\"text-align: right;\">\n",
       "      <th></th>\n",
       "      <th>id_hospital</th>\n",
       "      <th>direccion</th>\n",
       "      <th>cantidad_nacimientos_octubre</th>\n",
       "    </tr>\n",
       "  </thead>\n",
       "  <tbody>\n",
       "    <tr>\n",
       "      <th>1</th>\n",
       "      <td>11</td>\n",
       "      <td>dic11</td>\n",
       "      <td>3</td>\n",
       "    </tr>\n",
       "    <tr>\n",
       "      <th>4</th>\n",
       "      <td>10</td>\n",
       "      <td>dic10</td>\n",
       "      <td>2</td>\n",
       "    </tr>\n",
       "  </tbody>\n",
       "</table>\n",
       "</div>"
      ],
      "text/plain": [
       "   id_hospital direccion  cantidad_nacimientos_octubre\n",
       "1           11     dic11                             3\n",
       "4           10     dic10                             2"
      ]
     },
     "execution_count": 113,
     "metadata": {},
     "output_type": "execute_result"
    }
   ],
   "source": [
    "resultado_a = merge_df.loc[merge_df['cantidad_nacimientos_octubre'] > merge_df['promedio_nacimientos_mensual'],['id_hospital','direccion','cantidad_nacimientos_octubre']]\n",
    "resultado_a"
   ]
  },
  {
   "cell_type": "markdown",
   "metadata": {},
   "source": [
    "**2)Comparando el mes de Septiembre de 2017 indicar programáticamente si se incremento el % de cesáreas con respecto a ese mes del año 2016.**"
   ]
  },
  {
   "cell_type": "code",
   "execution_count": 144,
   "metadata": {},
   "outputs": [
    {
     "name": "stdout",
     "output_type": "stream",
     "text": [
      "No se incrementó el % de cesáreas\n"
     ]
    }
   ],
   "source": [
    "nacimientos_septiembre = nacimientos.loc[nacimientos['mes_nacimiento'] == 9, ['anio_nacimiento','tipo_parto']]\n",
    "nacimientos_por_cesarea = nacimientos_septiembre.groupby('anio_nacimiento')['tipo_parto'].agg(lambda x: (x==2).mean())\n",
    "\n",
    "if nacimientos_por_cesarea[2017] > nacimientos_por_cesarea[2016]: \n",
    "    print(\"Se incrementó el % de cesáreas\")\n",
    "else: \n",
    "    print(\"No se incrementó el % de cesáreas\")"
   ]
  }
 ],
 "metadata": {
  "kernelspec": {
   "display_name": "Python 3",
   "language": "python",
   "name": "python3"
  },
  "language_info": {
   "codemirror_mode": {
    "name": "ipython",
    "version": 3
   },
   "file_extension": ".py",
   "mimetype": "text/x-python",
   "name": "python",
   "nbconvert_exporter": "python",
   "pygments_lexer": "ipython3",
   "version": "3.8.5"
  }
 },
 "nbformat": 4,
 "nbformat_minor": 4
}
